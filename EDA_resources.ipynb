{
 "cells": [
  {
   "cell_type": "code",
   "execution_count": 1,
   "metadata": {
    "collapsed": true
   },
   "outputs": [],
   "source": [
    "import matplotlib.pyplot as plt\n",
    "\n",
    "from Utils.UtilsViz import *\n",
    "from Utils.DataExtractor import DataExtractor"
   ]
  },
  {
   "cell_type": "code",
   "execution_count": 2,
   "metadata": {},
   "outputs": [],
   "source": [
    "# Read the data from the database\n",
    "db_extractor = DataExtractor()\n",
    "db = \"kdd_2014\"\n",
    "cols_to_select = [\"*\"]\n",
    "cols_to_select_str = ','.join(cols_to_select)\n",
    "table_name = \"resources\"\n",
    "query = \"SELECT \" + cols_to_select_str + \" FROM \" + table_name + \";\"\n",
    "resources_data = db_extractor.read_db(db=\"kdd_2014\", query=query, host=\"localhost\", user=\"root\", pwd=\"root\")"
   ]
  },
  {
   "cell_type": "code",
   "execution_count": 3,
   "metadata": {},
   "outputs": [
    {
     "name": "stdout",
     "output_type": "stream",
     "text": [
      "Number of projects that received resources :  663773\n",
      "Number of kinds of project resource type :  7\n"
     ]
    }
   ],
   "source": [
    "# How many projects got resources?\n",
    "print(\"Number of projects that received resources : \", resources_data[\"projectid\"].unique().shape[0])\n",
    "print(\"Number of kinds of project resource type : \", resources_data[\"project_resource_type\"].unique().shape[0])"
   ]
  },
  {
   "cell_type": "markdown",
   "metadata": {},
   "source": [
    "### Resource Types"
   ]
  },
  {
   "cell_type": "markdown",
   "metadata": {},
   "source": [
    "Which resource types were donated the most?"
   ]
  },
  {
   "cell_type": "code",
   "execution_count": 9,
   "metadata": {},
   "outputs": [
    {
     "data": {
      "image/png": "[encoded data removed]",
      "text/plain": [
       "<Figure size 720x432 with 1 Axes>"
      ]
     },
     "metadata": {},
     "output_type": "display_data"
    }
   ],
   "source": [
    "cols = [\"resourceid\", \"project_resource_type\"]\n",
    "projrestype_df = resources_data[cols].groupby(by=\"project_resource_type\", as_index=False).count()\n",
    "projrestype_df.sort_values(by=\"resourceid\", inplace=True,ascending=False)\n",
    "f, ax = plt.subplots(1, 1, figsize=(10,6))\n",
    "plot_bar(x=\"project_resource_type\", y=\"resourceid\", data=projrestype_df, \n",
    "         title=\"Resource Types donated\", ylabel=\"Count\", xlabel=\"ResourceType\",\n",
    "         annot=False, ax=ax)"
   ]
  },
  {
   "cell_type": "markdown",
   "metadata": {},
   "source": [
    "What's the total value of all the resources provided so far?"
   ]
  },
  {
   "cell_type": "code",
   "execution_count": 10,
   "metadata": {},
   "outputs": [
    {
     "name": "stdout",
     "output_type": "stream",
     "text": [
      "Total value of resources provided in millions : 747.9484194336991\n"
     ]
    }
   ],
   "source": [
    "resources_data[\"total_items_price\"] = resources_data[\"item_unit_price\"] * resources_data[\"item_quantity\"]\n",
    "print(\"Total value of resources provided in millions :\", resources_data[\"total_items_price\"].sum()/1e6)"
   ]
  },
  {
   "cell_type": "markdown",
   "metadata": {},
   "source": [
    "### Vendors "
   ]
  },
  {
   "cell_type": "markdown",
   "metadata": {},
   "source": [
    "How have vendors helped?"
   ]
  },
  {
   "cell_type": "code",
   "execution_count": 11,
   "metadata": {},
   "outputs": [],
   "source": [
    "# Make a vendor map \n",
    "vendor_data = resources_data[[\"vendorid\", \"vendor_name\", \"total_items_price\"]]\n",
    "vendor_map = vendor_data.groupby(by=[\"vendorid\", \"vendor_name\"], as_index=False).sum()\n",
    "vendor_map.columns = vendor_map.columns.str.strip()"
   ]
  },
  {
   "cell_type": "code",
   "execution_count": 12,
   "metadata": {},
   "outputs": [
    {
     "data": {
      "text/plain": [
       "count    3.550000e+02\n",
       "mean     7.694251e+05\n",
       "std      4.309132e+06\n",
       "min      3.400000e+01\n",
       "25%      8.170500e+02\n",
       "50%      3.007700e+03\n",
       "75%      1.136187e+04\n",
       "max      5.200625e+07\n",
       "Name: total_items_price, dtype: float64"
      ]
     },
     "execution_count": 12,
     "metadata": {},
     "output_type": "execute_result"
    }
   ],
   "source": [
    "vendor_map = vendor_map.sort_values(\"total_items_price\", ascending=False)\n",
    "vendor_map[\"total_items_price\"].describe()"
   ]
  },
  {
   "cell_type": "markdown",
   "metadata": {},
   "source": [
    "Who were the top 5 vendors who donated?\n"
   ]
  },
  {
   "cell_type": "code",
   "execution_count": 13,
   "metadata": {},
   "outputs": [
    {
     "data": {
      "text/html": [
       "<div>\n",
       "<style scoped>\n",
       "    .dataframe tbody tr th:only-of-type {\n",
       "        vertical-align: middle;\n",
       "    }\n",
       "\n",
       "    .dataframe tbody tr th {\n",
       "        vertical-align: top;\n",
       "    }\n",
       "\n",
       "    .dataframe thead th {\n",
       "        text-align: right;\n",
       "    }\n",
       "</style>\n",
       "<table border=\"1\" class=\"dataframe\">\n",
       "  <thead>\n",
       "    <tr style=\"text-align: right;\">\n",
       "      <th></th>\n",
       "      <th>vendorid</th>\n",
       "      <th>vendor_name</th>\n",
       "      <th>total_items_price</th>\n",
       "    </tr>\n",
       "  </thead>\n",
       "  <tbody>\n",
       "    <tr>\n",
       "      <th>10</th>\n",
       "      <td>82.0</td>\n",
       "      <td>Best Buy for Business</td>\n",
       "      <td>5.200625e+07</td>\n",
       "    </tr>\n",
       "    <tr>\n",
       "      <th>228</th>\n",
       "      <td>767.0</td>\n",
       "      <td>Lakeshore Learning Materials</td>\n",
       "      <td>4.682488e+07</td>\n",
       "    </tr>\n",
       "    <tr>\n",
       "      <th>17</th>\n",
       "      <td>178.0</td>\n",
       "      <td>Quill.com</td>\n",
       "      <td>2.148531e+07</td>\n",
       "    </tr>\n",
       "    <tr>\n",
       "      <th>2</th>\n",
       "      <td>7.0</td>\n",
       "      <td>AKJ Books</td>\n",
       "      <td>1.802270e+07</td>\n",
       "    </tr>\n",
       "    <tr>\n",
       "      <th>13</th>\n",
       "      <td>150.0</td>\n",
       "      <td>CDW-G</td>\n",
       "      <td>1.607742e+07</td>\n",
       "    </tr>\n",
       "  </tbody>\n",
       "</table>\n",
       "</div>"
      ],
      "text/plain": [
       "<div>\n",
       "<style scoped>\n",
       "    .dataframe tbody tr th:only-of-type {\n",
       "        vertical-align: middle;\n",
       "    }\n",
       "\n",
       "    .dataframe tbody tr th {\n",
       "        vertical-align: top;\n",
       "    }\n",
       "\n",
       "    .dataframe thead th {\n",
       "        text-align: right;\n",
       "    }\n",
       "</style>\n",
       "<table border=\"1\" class=\"dataframe\">\n",
       "  <thead>\n",
       "    <tr style=\"text-align: right;\">\n",
       "      <th></th>\n",
       "      <th>vendorid</th>\n",
       "      <th>vendor_name</th>\n",
       "      <th>total_items_price</th>\n",
       "    </tr>\n",
       "  </thead>\n",
       "  <tbody>\n",
       "    <tr>\n",
       "      <th>10</th>\n",
       "      <td>82.0</td>\n",
       "      <td>Best Buy for Business</td>\n",
       "      <td>5.200625e+07</td>\n",
       "    </tr>\n",
       "    <tr>\n",
       "      <th>228</th>\n",
       "      <td>767.0</td>\n",
       "      <td>Lakeshore Learning Materials</td>\n",
       "      <td>4.682488e+07</td>\n",
       "    </tr>\n",
       "    <tr>\n",
       "      <th>17</th>\n",
       "      <td>178.0</td>\n",
       "      <td>Quill.com</td>\n",
       "      <td>2.148531e+07</td>\n",
       "    </tr>\n",
       "    <tr>\n",
       "      <th>2</th>\n",
       "      <td>7.0</td>\n",
       "      <td>AKJ Books</td>\n",
       "      <td>1.802270e+07</td>\n",
       "    </tr>\n",
       "    <tr>\n",
       "      <th>13</th>\n",
       "      <td>150.0</td>\n",
       "      <td>CDW-G</td>\n",
       "      <td>1.607742e+07</td>\n",
       "    </tr>\n",
       "  </tbody>\n",
       "</table>\n",
       "</div>"
      ]
     },
     "execution_count": 13,
     "metadata": {},
     "output_type": "execute_result"
    }
   ],
   "source": [
    "vendor_map.head()"
   ]
  }
 ],
 "metadata": {
  "kernelspec": {
   "display_name": "Python 3",
   "language": "python",
   "name": "python3"
  },
  "language_info": {
   "codemirror_mode": {
    "name": "ipython",
    "version": 3
   },
   "file_extension": ".py",
   "mimetype": "text/x-python",
   "name": "python",
   "nbconvert_exporter": "python",
   "pygments_lexer": "ipython3",
   "version": "3.6.7"
  }
 },
 "nbformat": 4,
 "nbformat_minor": 1
}
